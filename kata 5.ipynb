{
 "cells": [
  {
   "cell_type": "code",
   "execution_count": 6,
   "metadata": {},
   "outputs": [
    {
     "name": "stdout",
     "output_type": "stream",
     "text": [
      "628949330\n",
      "390577533.93\n"
     ]
    }
   ],
   "source": [
    "tierra = 149597870 \n",
    "júpiter = 778547200 \n",
    "\n",
    "distancia = júpiter - tierra\n",
    "print(distancia)\n",
    "distancia_en_millas = distancia * 0.621\n",
    "print(distancia_en_millas)"
   ]
  },
  {
   "cell_type": "code",
   "execution_count": 17,
   "metadata": {},
   "outputs": [
    {
     "name": "stdout",
     "output_type": "stream",
     "text": [
      "0\n",
      "0.0\n"
     ]
    }
   ],
   "source": [
    "primer_planeta = input(\"introduzca la distancia del  primer planeta en km\")\n",
    "segundo_planeta = input(\"introduzca la distancia del  al segundo planeta en km\")\n",
    "\n",
    "primer_planeta = int(primer_planeta)\n",
    "segundo_planeta = int(segundo_planeta)\n",
    "\n",
    "distancia_al_sol = (primer_planeta - segundo_planeta)\n",
    "distancia_en_millas = distancia_al_sol * 0.621 \n",
    "\n",
    "print(distancia_al_sol)\n",
    "print(abs(distancia_en_millas))\n",
    "\n"
   ]
  }
 ],
 "metadata": {
  "interpreter": {
   "hash": "04f4d74869382d02383931070766861380da4b8d46c09efe77fbecebe1ec80ab"
  },
  "kernelspec": {
   "display_name": "Python 3.10.2 64-bit",
   "language": "python",
   "name": "python3"
  },
  "language_info": {
   "codemirror_mode": {
    "name": "ipython",
    "version": 3
   },
   "file_extension": ".py",
   "mimetype": "text/x-python",
   "name": "python",
   "nbconvert_exporter": "python",
   "pygments_lexer": "ipython3",
   "version": "3.10.2"
  },
  "orig_nbformat": 4
 },
 "nbformat": 4,
 "nbformat_minor": 2
}
