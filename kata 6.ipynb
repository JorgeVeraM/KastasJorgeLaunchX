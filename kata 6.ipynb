{
 "cells": [
  {
   "cell_type": "code",
   "execution_count": 8,
   "metadata": {},
   "outputs": [
    {
     "name": "stdout",
     "output_type": "stream",
     "text": [
      "there are 9 in the solar system\n",
      "pluton is the last planet\n"
     ]
    }
   ],
   "source": [
    "planets = ['Mercury', 'Venus', 'Earth', 'Mars', 'Jupiter', 'Saturn', 'Uranus', 'Neptune', 'pluiton']\n",
    "\n",
    "number_of_planets = len(planets)\n",
    "planets.append('pluton') \n",
    "\n",
    "print('there are', number_of_planets, 'in the solar system')\n",
    "print(planets[-1],'is the last planet')\n",
    "\n"
   ]
  },
  {
   "cell_type": "code",
   "execution_count": 19,
   "metadata": {},
   "outputs": [
    {
     "name": "stdout",
     "output_type": "stream",
     "text": [
      "este es el planeta que esta mas cerca de  Mars\n",
      "['Mercury', 'Venus', 'Earth']\n",
      "este es el planeta que esta mas lejos de Mars\n",
      "['Jupiter', 'Saturn', 'Neptune']\n"
     ]
    }
   ],
   "source": [
    "planets = ['Mercury', 'Venus', 'Earth', 'Mars', 'Jupiter', 'Saturn', 'Neptune']\n",
    "\n",
    "user = input('Solicitamos el nombre de un planeta con letra mayuscula' )\n",
    "\n",
    "planet_index = planets.index(user)\n",
    "\n",
    "print ('este es el planeta que esta mas cerca de  ' + user)\n",
    "print(planets[0:planet_index])\n",
    "\n",
    "print('este es el planeta que esta mas lejos de ' + user)\n",
    "print(planets[planet_index + 1:])\n",
    "\n",
    "\n",
    "\n"
   ]
  }
 ],
 "metadata": {
  "interpreter": {
   "hash": "04f4d74869382d02383931070766861380da4b8d46c09efe77fbecebe1ec80ab"
  },
  "kernelspec": {
   "display_name": "Python 3.10.2 64-bit",
   "language": "python",
   "name": "python3"
  },
  "language_info": {
   "codemirror_mode": {
    "name": "ipython",
    "version": 3
   },
   "file_extension": ".py",
   "mimetype": "text/x-python",
   "name": "python",
   "nbconvert_exporter": "python",
   "pygments_lexer": "ipython3",
   "version": "3.10.2"
  },
  "orig_nbformat": 4
 },
 "nbformat": 4,
 "nbformat_minor": 2
}
