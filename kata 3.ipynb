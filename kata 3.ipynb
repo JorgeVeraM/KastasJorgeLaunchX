{
 "cells": [
  {
   "cell_type": "code",
   "execution_count": 25,
   "metadata": {},
   "outputs": [
    {
     "name": "stdout",
     "output_type": "stream",
     "text": [
      " !!cuidado se acerca un asteroide....\n"
     ]
    }
   ],
   "source": [
    "asteroide = 25 \n",
    "\n",
    "if asteroide  >= 25:\n",
    "     print(\" !!cuidado se acerca un asteroide....\")\n",
    "  "
   ]
  },
  {
   "cell_type": "code",
   "execution_count": 36,
   "metadata": {},
   "outputs": [
    {
     "name": "stdout",
     "output_type": "stream",
     "text": [
      " busca un rayo de luz, un asteroide se acerca...\n"
     ]
    }
   ],
   "source": [
    "asteroide = 19 \n",
    "\n",
    "if asteroide > 20:\n",
    "    print(\" cuidado hay un asteroide en el cielo buscalo..\")\n",
    "elif asteroide == 19:\n",
    "      print(\" busca un rayo de luz, un asteroide se acerca...\")  \n",
    "else:\n",
    "     print(\"todo se encuentra bien ,,,,\") "
   ]
  },
  {
   "cell_type": "code",
   "execution_count": 38,
   "metadata": {},
   "outputs": [
    {
     "name": "stdout",
     "output_type": "stream",
     "text": [
      "observa  ¡Hay una luz  en el cielo..\n"
     ]
    }
   ],
   "source": [
    "velocidad_asteroide = 25\n",
    "tamaño_asteroide = 40\n",
    "\n",
    "if velocidad_asteroide > 25 and tamaño_asteroide > 25:\n",
    "    print('¡Alerta, Un asteroide muy peligroso viene hacia la Tierra!')\n",
    "\n",
    "elif velocidad_asteroide >= 20:\n",
    "    print('observa  ¡Hay una luz  en el cielo..')\n",
    "\n",
    "elif tamaño_asteroide < 25:\n",
    "    print('todo bien :)')\n",
    "else:\n",
    "    print('todo bien  :)')\n"
   ]
  }
 ],
 "metadata": {
  "interpreter": {
   "hash": "04f4d74869382d02383931070766861380da4b8d46c09efe77fbecebe1ec80ab"
  },
  "kernelspec": {
   "display_name": "Python 3.10.2 64-bit",
   "language": "python",
   "name": "python3"
  },
  "language_info": {
   "codemirror_mode": {
    "name": "ipython",
    "version": 3
   },
   "file_extension": ".py",
   "mimetype": "text/x-python",
   "name": "python",
   "nbconvert_exporter": "python",
   "pygments_lexer": "ipython3",
   "version": "3.10.2"
  },
  "orig_nbformat": 4
 },
 "nbformat": 4,
 "nbformat_minor": 2
}
